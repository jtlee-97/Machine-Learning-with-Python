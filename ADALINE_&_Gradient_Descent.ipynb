{
  "nbformat": 4,
  "nbformat_minor": 0,
  "metadata": {
    "colab": {
      "name": "ADALINE & Gradient Descent",
      "provenance": [],
      "collapsed_sections": [
        "nTkMNXAhIEM0",
        "VsSyC8qmHqtN"
      ],
      "authorship_tag": "ABX9TyO3VcX99q4GlKJXfjGrIBlW",
      "include_colab_link": true
    },
    "kernelspec": {
      "name": "python3",
      "display_name": "Python 3"
    },
    "language_info": {
      "name": "python"
    }
  },
  "cells": [
    {
      "cell_type": "markdown",
      "metadata": {
        "id": "view-in-github",
        "colab_type": "text"
      },
      "source": [
        "<a href=\"https://colab.research.google.com/github/jtlee-97/Machine-Learning-with-Python/blob/main/ADALINE_%26_Gradient_Descent.ipynb\" target=\"_parent\"><img src=\"https://colab.research.google.com/assets/colab-badge.svg\" alt=\"Open In Colab\"/></a>"
      ]
    },
    {
      "cell_type": "markdown",
      "source": [
        "### Pre-prepare."
      ],
      "metadata": {
        "id": "nTkMNXAhIEM0"
      }
    },
    {
      "cell_type": "code",
      "source": [
        "# 사전준비 (import / 붓꽃데이터)\n",
        "import os\n",
        "import pandas as pd\n",
        "import numpy as np\n",
        "from IPython.display import Image\n",
        "import matplotlib.pyplot as plt\n",
        "%matplotlib inline\n",
        "\n",
        "s = 'https://archive.ics.uci.edu/ml/machine-learning-databases/iris/iris.data'\n",
        "df = pd.read_csv(s, header=None, encoding='utf-8')\n",
        "\n",
        "y = df.iloc[0:100, 4].values \n",
        "y = np.where(y == 'Iris-setosa', -1, 1)\n",
        "X = df.iloc[0:100, [0, 2]].values  "
      ],
      "metadata": {
        "id": "g5qM1yyjUN4L"
      },
      "execution_count": 1,
      "outputs": []
    },
    {
      "cell_type": "code",
      "source": [
        "# Graph\n",
        "from matplotlib.colors import ListedColormap\n",
        "\n",
        "\n",
        "def plot_decision_regions(X, y, classifier, resolution=0.02):\n",
        "    markers = ('s', 'x', 'o', '^', 'v')\n",
        "    colors = ('red', 'blue', 'lightgreen', 'gray', 'cyan')\n",
        "    cmap = ListedColormap(colors[:len(np.unique(y))])\n",
        "\n",
        "    x1_min, x1_max = X[:, 0].min() - 1, X[:, 0].max() + 1\n",
        "    x2_min, x2_max = X[:, 1].min() - 1, X[:, 1].max() + 1\n",
        "\n",
        "    xx1, xx2 = np.meshgrid( np.arange(x1_min, x1_max, resolution), np.arange(x2_min, x2_max, resolution) )\n",
        "\n",
        "    Z = classifier.predict(np.array([xx1.ravel(), xx2.ravel()]).T)\n",
        "    Z = Z.reshape(xx1.shape)\n",
        "\n",
        "    plt.contourf(xx1, xx2, Z, alpha=0.3, cmap=cmap)\n",
        "    plt.xlim(xx1.min(), xx1.max())\n",
        "    plt.ylim(xx2.min(), xx2.max())\n",
        "\n",
        "    # 샘플의 산점도를 그립니다\n",
        "    for idx, cl in enumerate(np.unique(y)):\n",
        "        plt.scatter(x=X[y == cl, 0], \n",
        "                    y=X[y == cl, 1],\n",
        "                    alpha=0.8, \n",
        "                    c=colors[idx],\n",
        "                    marker=markers[idx], \n",
        "                    label=cl, \n",
        "                    edgecolor='black')"
      ],
      "metadata": {
        "id": "qLuKSlDRPu0M"
      },
      "execution_count": 2,
      "outputs": []
    },
    {
      "cell_type": "markdown",
      "source": [
        "# Adaline (Adaptive Linear Neuron)\n",
        "\n",
        "- 단층 인공신경망인 **퍼셉트론 알고리즘을 향상**시킨 새로운 인공 신경망 알고리즘\n",
        "- 단일층 신경망의 또 다른 종류인 적응형 선형 뉴런\n",
        "- 회귀(Regression) / 로지스틴 회귀(Logistic Regression) / SVM(Support Vector Machine) 알고리즘의 토대를 마련한 알고리즘\n",
        "\n",
        "      : 아달린은 연속함수로 비용함수를 정의하고 최소화하는 개념이다.\n",
        "      : 결정함수를 통과하지 않은 값을 통해 가중치를 업데이트 한다.\n",
        "\n",
        "      <퍼셉트론과의 차이점>\n",
        "        - 퍼셉트론 : 진짜 클래스 레이블과 예측 클래스 레이블을 비교\n",
        "        - 아달린 : 진짜 클래스 레이블과 선형 활성화 함수의 실수 출력 값을 비교해서 모델의 오차를 계산 및 가중치를 업데이트 한다."
      ],
      "metadata": {
        "id": "Iu0h2Xmi-5pT"
      }
    },
    {
      "cell_type": "code",
      "execution_count": 3,
      "metadata": {
        "id": "ulmWlZYH-hGN",
        "colab": {
          "base_uri": "https://localhost:8080/",
          "height": 450
        },
        "outputId": "c1d0097b-84a7-43bd-d808-60ebbe52dae6"
      },
      "outputs": [
        {
          "output_type": "execute_result",
          "data": {
            "text/html": [
              "<img src=\"https://git.io/JtIbn\" width=\"600\"/>"
            ],
            "text/plain": [
              "<IPython.core.display.Image object>"
            ]
          },
          "metadata": {},
          "execution_count": 3
        }
      ],
      "source": [
        "Image(url='https://git.io/JtIbn', width=600) "
      ]
    },
    {
      "cell_type": "markdown",
      "source": [
        "###**Gradient Descent** (경사하강법)\n",
        "\n",
        "> 목적함수를 정리하고, 목적함수의 값이 최소(최적)이 되는 가중치를 찾아가는 과정\n",
        "\n",
        "      <목적함수>\n",
        "       비용함수 : 손실을 모아서 전체를 평균한 것\n",
        "       손실함수 : Sample 하나에 대한 손실을 계산\n",
        "\n",
        "      [하단의 그래프처럼 비용함수 J가 최소의 기울기를 가질 때를 목표로 한다]"
      ],
      "metadata": {
        "id": "g7ckJlfacf-p"
      }
    },
    {
      "cell_type": "markdown",
      "source": [
        "####**Cost function J(w) formula.**\n",
        "\n",
        "\n",
        "$J(w) = \\frac{1}{2}\\sum_{i}^{}(y^{i})-\\hat{y}^{i})^{2}$\n",
        "      "
      ],
      "metadata": {
        "id": "Wq2Jws1s8nfc"
      }
    },
    {
      "cell_type": "code",
      "source": [
        "Image(url='https://git.io/JtIbc', width=500)"
      ],
      "metadata": {
        "colab": {
          "base_uri": "https://localhost:8080/",
          "height": 274
        },
        "id": "gAp8jAZXb6a_",
        "outputId": "d4bfe712-817c-45d0-e7c6-dba9c62979cb"
      },
      "execution_count": 4,
      "outputs": [
        {
          "output_type": "execute_result",
          "data": {
            "text/html": [
              "<img src=\"https://git.io/JtIbc\" width=\"500\"/>"
            ],
            "text/plain": [
              "<IPython.core.display.Image object>"
            ]
          },
          "metadata": {},
          "execution_count": 4
        }
      ]
    },
    {
      "cell_type": "markdown",
      "source": [
        "####**Weight update $\\Delta w_{j}$ formula.**\n",
        "\n",
        "$\\Delta w_{j} = -\\eta \\frac{\\partial J}{\\partial w_{j}} = \\eta \\sum_{i}^{}(y^{i}-\\varnothing (z^{i}))x_{j}^{(i)}$\n",
        "\n",
        "\n"
      ],
      "metadata": {
        "id": "ELsUyBss_go6"
      }
    },
    {
      "cell_type": "markdown",
      "source": [
        "####**Adaline learning rules**\n",
        "\n",
        "$w := w+\\Delta w$"
      ],
      "metadata": {
        "id": "ZIZ1fQxgBMQD"
      }
    },
    {
      "cell_type": "markdown",
      "source": [
        "\n",
        "\n",
        "---\n",
        "\n",
        "\n",
        "# **Implement the Adaline & Gradient Descent using Python**\n",
        "\n",
        "> Adaline code was slightly modified in perceptron code and an activation function was added."
      ],
      "metadata": {
        "id": "hlg3wW_WH08c"
      }
    },
    {
      "cell_type": "code",
      "source": [
        "class AdalineGD(object):\n",
        "    def __init__(self, eta=0.01, n_iter=50):\n",
        "        self.eta = eta\n",
        "        self.n_iter = n_iter\n",
        "\n",
        "    def fit(self, X, y):\n",
        "        self.w_ = np.zeros(1 + X.shape[1])\n",
        "        self.cost_ = []\n",
        "\n",
        "        for i in range(self.n_iter):\n",
        "            net_input = self.net_input(X)\n",
        "            output = self.activation(net_input) #In Adaline, the activation function does not have any special features, so if \"output = net_input\" is used, the syntax may be omitted.\n",
        "            errors = (y - output) \n",
        "\n",
        "            # 가중치변화량 = [학습률]* Σ(오차율*X)\n",
        "            self.w_[1:] += self.eta * X.T.dot(errors)\n",
        "            self.w_[0] += self.eta * errors.sum()\n",
        "        \n",
        "            # 비용함수 =  (1/2)* Σ(오차율)^2\n",
        "            cost = (errors**2).sum() / 2.0\n",
        "            self.cost_.append(cost) \n",
        "        return self\n",
        "\n",
        "\n",
        "    def net_input(self, X):\n",
        "        return np.dot(X, self.w_[1:]) + self.w_[0]\n",
        "\n",
        "    # activation Funtion   \n",
        "    def activation(self, X): \n",
        "        return X\n",
        "\n",
        "    def predict(self, X):\n",
        "        return np.where(self.activation(self.net_input(X)) >= 0.0, 1, -1)"
      ],
      "metadata": {
        "id": "mk1Fjrz4IA9D"
      },
      "execution_count": 5,
      "outputs": []
    },
    {
      "cell_type": "markdown",
      "source": [
        "> *코드 부가 설명*\n",
        "\n",
        "      X.T : X 행렬의 전치행렬\n",
        "      이유 : X.T와 errors를 dot(넘파이배열끼리의 곱)을 할 때, X의 행의 숫자와 Y의 열의 숫자가 동일해야 한다. \n",
        "      즉, X행렬의 행(샘플)과 열(특성)을 바꿔야 errors(가중치)와 곱셈이 가능해진다."
      ],
      "metadata": {
        "id": "p8HFYAqERt2p"
      }
    },
    {
      "cell_type": "markdown",
      "source": [
        "\n",
        "\n",
        "---\n",
        "\n",
        "\n",
        "# **Check learning through training data.**"
      ],
      "metadata": {
        "id": "-IlKYGhrVxTR"
      }
    },
    {
      "cell_type": "code",
      "source": [
        "fig, ax = plt.subplots(nrows=1, ncols=2, figsize=(10, 4)) \n",
        "\n",
        "# Smaple No.1 : 10회 실시 / 학습률 0.01\n",
        "ada1 = AdalineGD(n_iter=10, eta=0.01).fit(X, y)                                                                                                                            \n",
        "ax[0].plot(range(1, len(ada1.cost_) + 1), np.log10(ada1.cost_), marker='o') #손실값이 너무 커서 log를 추가한 것임\n",
        "ax[0].set_xlabel('Epochs')\n",
        "ax[0].set_ylabel('log(Sum-squared-error)')\n",
        "ax[0].set_title('Adaline - Learning rate 0.01')\n",
        "\n",
        "# Smaple No.2 : 10회 실시 / 학습률 0.0001 \n",
        "ada2 = AdalineGD(n_iter=10, eta=0.0001).fit(X, y)\n",
        "ax[1].plot(range(1, len(ada2.cost_) + 1), ada2.cost_, marker='o')\n",
        "ax[1].set_xlabel('Epochs')\n",
        "ax[1].set_ylabel('Sum-squared-error')\n",
        "ax[1].set_title('Adaline - Learning rate 0.0001')\n",
        "\n",
        "plt.show()"
      ],
      "metadata": {
        "colab": {
          "base_uri": "https://localhost:8080/",
          "height": 295
        },
        "id": "uW2bPMJbV-Ed",
        "outputId": "1b631632-506e-42ed-fe7b-8a9a768783a4"
      },
      "execution_count": 6,
      "outputs": [
        {
          "output_type": "display_data",
          "data": {
            "image/png": "[encoded data removed]",
            "text/plain": [
              "<Figure size 720x288 with 2 Axes>"
            ]
          },
          "metadata": {
            "needs_background": "light"
          }
        }
      ]
    },
    {
      "cell_type": "markdown",
      "source": [
        "> *코드 부가 설명*\n",
        "\n",
        "- subplots : 한번에 여러 그래프를 보여주는 함수\n",
        "\n",
        "- subplot을 사용하면 하나하나 설정해줘야하지만 subplots는 한번에 설정 가능하다.\n",
        "\n",
        "- fig, ax = plt.subplots() 이런 형태의 모습으로 자주 사용하는데, fig는 figure로 전체 subplot을 말한다. (전체사이즈를 의미)\n",
        "      \n",
        "- ax는 axe로 전체 중 낱낱개를 말한다. (내부 각각의 그래프를 의미)\n",
        "\n",
        "- 여기서 작성한 코드를 기반으로 해석해보면 행 1 / 열 2로 총 2개의 그래프를 가지는 10,4 size의 figure생성을 의미"
      ],
      "metadata": {
        "id": "UW02pceOWBM6"
      }
    },
    {
      "cell_type": "markdown",
      "source": [
        "# 결과 확인"
      ],
      "metadata": {
        "id": "BtffTLRmLCPR"
      }
    },
    {
      "cell_type": "markdown",
      "source": [
        "      [ 학습률 = 0.01  ]\n",
        "        너무 큰 학습률이라 늘어나는 그래프가 보이며 (발산하는 모습), 최솟값을 지나쳤다.\n",
        "\n",
        "      [ 학습률 = 0.0001 ]\n",
        "        비용이 작아지는 그래프를 보이지만 학습률이 너무 작아서 전역 최솟값에 수렴하려면 아주 많은 Epochs를 필요로 한다.\n"
      ],
      "metadata": {
        "id": "1WmBgX9IIxpB"
      }
    },
    {
      "cell_type": "code",
      "source": [
        "Image(url='https://git.io/JtIb4', width=700) "
      ],
      "metadata": {
        "colab": {
          "base_uri": "https://localhost:8080/",
          "height": 260
        },
        "id": "sFRPjym8LN68",
        "outputId": "d0f0369e-5f2c-4aa4-a3a0-b5072d359fc5"
      },
      "execution_count": 7,
      "outputs": [
        {
          "output_type": "execute_result",
          "data": {
            "text/html": [
              "<img src=\"https://git.io/JtIb4\" width=\"700\"/>"
            ],
            "text/plain": [
              "<IPython.core.display.Image object>"
            ]
          },
          "metadata": {},
          "execution_count": 7
        }
      ]
    },
    {
      "cell_type": "markdown",
      "source": [
        "> 학습률(eta)을 잘 정해야 하는 이유\n",
        "\n",
        "        학습률을 잘 정하면 미세 조정을 통해 점차 줄여나가 최소로 수렴해가는 것을 볼 수 있다.\n",
        "        하지만 학습률을 너무 크게 잡으면, eta=0.01의 결과와 같이 발산한다.\n",
        "        이는 상단 우측그림처럼 계속 발산하면서 학습을 진행할 수록 오차값이 더 커지는 그래프가 만들어지게 되기 때문이다.\n",
        "\n",
        "\n",
        "        W를 모델 파라미터라 부르고 학습률을 하이퍼 파라미터라 부르는데, 학습률을 잘 지정하는 것이 정말 중요하다. \n",
        "        이는 여러 시행착오를 통해 찾아가며 중요환 머신러닝의 과정이다."
      ],
      "metadata": {
        "id": "w3MrSzHJLRFs"
      }
    },
    {
      "cell_type": "markdown",
      "source": [
        "> **결론**\n",
        "        \n",
        "        Learning Rate를 매우 작게 해야 J(w)값이 작아지고 우리가 원하는 결과를 얻을 수 있을 것"
      ],
      "metadata": {
        "id": "MZBPcWEtLK6A"
      }
    },
    {
      "cell_type": "markdown",
      "source": [
        "\n",
        "\n",
        "---\n",
        "\n",
        "# **Adjusting the scale of the characteristics to improve the result of the gradient descent method.**\n",
        "\n",
        "\n",
        "\n",
        "\n"
      ],
      "metadata": {
        "id": "MiDCf-u5MMeB"
      }
    },
    {
      "cell_type": "markdown",
      "source": [
        "> 비용함수의 최저점을 찾기위한 방법 중 하나 : 특성의 스케일을 조정하는 것\n",
        "\n",
        "\n",
        "**<특성 X를 표준화하는 특성 스케일 공식>** \n",
        "\n",
        "$X' = X - \\frac{u}{\\sigma}$\n",
        "\n",
        "  \n",
        "\n",
        "- X' : 표준화 값\n",
        "- X  : 특성\n",
        "- $u$ : 모든 샘플의 평균\n",
        "- $\\sigma$ : 표준편차\n"
      ],
      "metadata": {
        "id": "12jO1ClSNKiS"
      }
    },
    {
      "cell_type": "code",
      "source": [
        "# 특성을 표준화합니다.\n",
        "X_std = np.copy(X) \n",
        "X_std[:, 0] = (X[:, 0] - X[:, 0].mean()) / X[:, 0].std() #모든 샘플의 첫번째 열 표준화 작업\n",
        "X_std[:, 1] = (X[:, 1] - X[:, 1].mean()) / X[:, 1].std() #모든 샘플의 두번째 열 표준화 작업"
      ],
      "metadata": {
        "id": "YW5JPv4lOuAt"
      },
      "execution_count": 8,
      "outputs": []
    },
    {
      "cell_type": "markdown",
      "source": [
        "\n",
        "\n",
        "---\n",
        "\n",
        "# **Check the result using the standardized value X_std.  (eta=0.01)**"
      ],
      "metadata": {
        "id": "yay7xcF1O6Cu"
      }
    },
    {
      "cell_type": "code",
      "source": [
        "ada_gd = AdalineGD(n_iter=15, eta=0.01)\n",
        "ada_gd.fit(X_std, y)\n",
        "\n",
        "plot_decision_regions(X_std, y, classifier=ada_gd) \n",
        "plt.title('Adaline - Gradient Descent')\n",
        "plt.xlabel('sepal length [standardized]')\n",
        "plt.ylabel('petal length [standardized]')\n",
        "plt.legend(loc='upper left')\n",
        "plt.tight_layout()\n",
        "plt.show()\n",
        "\n",
        "plt.plot(range(1, len(ada_gd.cost_) + 1), ada_gd.cost_, marker='o')\n",
        "plt.xlabel('Epochs')\n",
        "plt.ylabel('Sum-squared-error')\n",
        "\n",
        "plt.tight_layout()\n",
        "plt.show()"
      ],
      "metadata": {
        "colab": {
          "base_uri": "https://localhost:8080/",
          "height": 577
        },
        "id": "66b-w1wlPP9E",
        "outputId": "d471b6b7-0c6f-4698-cb55-44913d9d15df"
      },
      "execution_count": 9,
      "outputs": [
        {
          "output_type": "display_data",
          "data": {
            "image/png": "[encoded data removed]",
            "text/plain": [
              "<Figure size 432x288 with 1 Axes>"
            ]
          },
          "metadata": {
            "needs_background": "light"
          }
        },
        {
          "output_type": "display_data",
          "data": {
            "image/png": "[encoded data removed]",
            "text/plain": [
              "<Figure size 432x288 with 1 Axes>"
            ]
          },
          "metadata": {
            "needs_background": "light"
          }
        }
      ]
    },
    {
      "cell_type": "markdown",
      "source": [
        "___\n",
        "#**Large-scale machine learning and stochastic gradient descent (SGD).**\n",
        "\n",
        "      모든 샘플을 이용한 경사하강법은 대규모 머신러닝에서 가중치 업데이트에 드는 연산이 너무 많다.\n",
        "\n",
        "      확률적 경사하강법(SGD) : 전체 샘플을 다루는 배치 경사 하강법의 대안으로 각 훈련 샘플에 대해 조금씩 가중치를 업데이트 하는 방식.\n",
        "\n",
        "      <특징>\n",
        "        (1) 학습 중간 과정에서의 결과의 진폭이 크고 불안정\n",
        "        (2) 속도가 매우 빠름\n",
        "        (3) 데이터를 하나씩 처리하여 오차율이 큼\n",
        "        (4) GPU의 성능을 모두 활용하지 못함\n",
        "        (5) 훈련 중 학습률 변경이 불가능\n",
        "\n",
        "      <좋은 훈련 방법>\n",
        "        > 훈련 샘플 순서를 무작위로 주입하는 것이 중요.\n",
        "        > 순환되지 않도록 에포크마다 훈련 데이터셋을 섞어주는 것이 좋음."
      ],
      "metadata": {
        "id": "6HwxLiFyQAoy"
      }
    },
    {
      "cell_type": "markdown",
      "source": [
        "### **[ 배치 경사하강법과 확률적 경사하강법 공식 비교 ]**\n",
        "\n",
        "> 배치 경사하강법 : \n",
        "$\\Delta w = \\eta \\sum_{i}^{}(y^{i}-\\phi (z^{i}))x^{(i)}$\n",
        "\n",
        "> 확률 경사하강법 : \n",
        "$\\Delta w = \\eta (y^{(i)}-\\phi (z^{(i)}))x^{(i)}$\n",
        "\n",
        "\n",
        "      배치 경사하강법 : 모든 샘플에 대해 가중치를 업데이트\n",
        "      확률 경사하강법 : 샘플을 뽑아 조금씩 가중치를 업데이트\n"
      ],
      "metadata": {
        "id": "RK6YXfddf-Uk"
      }
    },
    {
      "cell_type": "code",
      "source": [
        "Image(url='https://img1.daumcdn.net/thumb/R1280x0/?scode=mtistory2&fname=https%3A%2F%2Fblog.kakaocdn.net%2Fdn%2Fb8RUdK%2FbtqAm4Utey2%2F5DfjTQw70XKYgtOB8VHpeK%2Fimg.png', width=700) "
      ],
      "metadata": {
        "colab": {
          "base_uri": "https://localhost:8080/",
          "height": 351
        },
        "id": "XVu2uSRRGZzU",
        "outputId": "abef0186-864b-46d2-fa32-5eec5969dd23"
      },
      "execution_count": 10,
      "outputs": [
        {
          "output_type": "execute_result",
          "data": {
            "text/html": [
              "<img src=\"https://img1.daumcdn.net/thumb/R1280x0/?scode=mtistory2&fname=https%3A%2F%2Fblog.kakaocdn.net%2Fdn%2Fb8RUdK%2FbtqAm4Utey2%2F5DfjTQw70XKYgtOB8VHpeK%2Fimg.png\" width=\"700\"/>"
            ],
            "text/plain": [
              "<IPython.core.display.Image object>"
            ]
          },
          "metadata": {},
          "execution_count": 10
        }
      ]
    },
    {
      "cell_type": "code",
      "source": [
        "# 확률적 경사하강법이 적용된 아달린 코드\n",
        "\n",
        "class AdalineSGD(object):\n",
        "    def __init__(self, eta=0.01, n_iter=10, shuffle=True, random_state=None):\n",
        "        self.eta = eta\n",
        "        self.n_iter = n_iter\n",
        "        self.w_initialized = False\n",
        "        self.shuffle = shuffle # 샘플 셔플 여부 (기본값:True)\n",
        "        self.random_state = random_state\n",
        "        \n",
        "    \"\"\"랜덤한 값(무작위성)을 통해 탐험적인 결과를 이끌어냄\"\"\"    \n",
        "    def fit(self, X, y):\n",
        "        self._initialize_weights(X.shape[1]) # 가중치 초기화\n",
        "        self.cost_ = []\n",
        "        for i in range(self.n_iter):  \n",
        "            if self.shuffle:                 # shuffle이 true라면 X,y를 무작위로 섞음\n",
        "                X, y = self._shuffle(X, y)\n",
        "            cost = []\n",
        "            for xi, target in zip(X, y):    # 랜덤으로 샘플을 하나 뽑아 수행\n",
        "                cost.append(self._update_weights(xi, target)) # update_weights\n",
        "            avg_cost = sum(cost) / len(y)\n",
        "            self.cost_.append(avg_cost)\n",
        "        return self\n",
        "\n",
        "    # Partial_fit 매소드 : 이미 훈련된 가중치를 다시 초기화하지 않고 그대로 이어서 훈련 데이터를 학습\n",
        "    def partial_fit(self, X, y):\n",
        "        if not self.w_initialized:\n",
        "            self._initialize_weights(X.shape[1])\n",
        "        if y.ravel().shape[0] > 1:\n",
        "            for xi, target in zip(X, y):\n",
        "                self._update_weights(xi, target)\n",
        "        else:\n",
        "            self._update_weights(X, y)\n",
        "        return self\n",
        "\n",
        "    def _shuffle(self, X, y):\n",
        "        r = self.rgen.permutation(len(y))\n",
        "        return X[r], y[r]\n",
        "    \n",
        "    def _initialize_weights(self, m):\n",
        "        self.rgen = np.random.RandomState(self.random_state)\n",
        "        self.w_ = self.rgen.normal(loc=0.0, scale=0.01, size=1 + m)\n",
        "        self.w_initialized = True\n",
        "        \n",
        "    def _update_weights(self, xi, target):\n",
        "        output = self.activation(self.net_input(xi))\n",
        "        error = (target - output)\n",
        "        self.w_[1:] += self.eta * xi.dot(error)\n",
        "        self.w_[0] += self.eta * error\n",
        "        cost = 0.5 * error**2\n",
        "        return cost\n",
        "    \n",
        "    def net_input(self, X):\n",
        "        return np.dot(X, self.w_[1:]) + self.w_[0]\n",
        "\n",
        "    def activation(self, X):\n",
        "        return X\n",
        "\n",
        "    def predict(self, X):\n",
        "        return np.where(self.activation(self.net_input(X)) >= 0.0, 1, -1)"
      ],
      "metadata": {
        "id": "KJZivmapjmKP"
      },
      "execution_count": 17,
      "outputs": []
    },
    {
      "cell_type": "code",
      "source": [
        "# 학습률 : 0.01 / 애포크 : 15회\n",
        "ada_sgd = AdalineSGD(n_iter=15, eta=0.01, random_state=1)\n",
        "ada_sgd.fit(X_std, y)\n",
        "\n",
        "plot_decision_regions(X_std, y, classifier=ada_sgd)\n",
        "plt.title('Adaline - Stochastic Gradient Descent')\n",
        "plt.xlabel('sepal length [standardized]')\n",
        "plt.ylabel('petal length [standardized]')\n",
        "plt.legend(loc='upper left')\n",
        "plt.tight_layout()\n",
        "plt.show()\n",
        "\n",
        "plt.plot(range(1, len(ada_sgd.cost_) + 1), ada_sgd.cost_, marker='o')\n",
        "plt.xlabel('Epochs')\n",
        "plt.ylabel('Average Cost')\n",
        "plt.tight_layout()\n",
        "plt.show()"
      ],
      "metadata": {
        "colab": {
          "base_uri": "https://localhost:8080/",
          "height": 577
        },
        "id": "2VcO0vgrj4cW",
        "outputId": "b3290fff-ade0-4cec-9082-3177b85181a5"
      },
      "execution_count": 19,
      "outputs": [
        {
          "output_type": "display_data",
          "data": {
            "image/png": "[encoded data removed]",
            "text/plain": [
              "<Figure size 432x288 with 1 Axes>"
            ]
          },
          "metadata": {
            "needs_background": "light"
          }
        },
        {
          "output_type": "display_data",
          "data": {
            "image/png": "[encoded data removed]",
            "text/plain": [
              "<Figure size 432x288 with 1 Axes>"
            ]
          },
          "metadata": {
            "needs_background": "light"
          }
        }
      ]
    },
    {
      "cell_type": "markdown",
      "source": [
        "- 확률적 경사하강법의 COST 그래프는 빠르지만 가파르게 그려지는 것을 확인할 수 있다. \n",
        "\n",
        "- Data Set이 크거나 매개변수 특성이 많은 경우는 더욱 요동치는 그래프가 그려진다"
      ],
      "metadata": {
        "id": "ey4xKOaQ-iq2"
      }
    },
    {
      "cell_type": "markdown",
      "source": [
        "---\n",
        "#### 확률적 경사하강법의 단점 보완\n"
      ],
      "metadata": {
        "id": "VsSyC8qmHqtN"
      }
    },
    {
      "cell_type": "markdown",
      "source": [
        "\n",
        "      <대안>\n",
        "        배치 경사하강법 > \"미니배치 경사하강법\" > 확률적 경사하강법\n",
        "\n",
        "        미니배치 경사하강법 : 배치와 확률적 경사하강법의 절충안\n",
        "                            : 신경망 알고리즘에선 거의 미니배치 경사하강법을 사용"
      ],
      "metadata": {
        "id": "-6F7p8hJH3RJ"
      }
    },
    {
      "cell_type": "code",
      "source": [
        "Image(url='https://img1.daumcdn.net/thumb/R1280x0/?scode=mtistory2&fname=https%3A%2F%2Fblog.kakaocdn.net%2Fdn%2FSRACX%2FbtqAkxQ8pkf%2FclRtX6wjdmVfpU9Z9V1rB1%2Fimg.png', width=700) "
      ],
      "metadata": {
        "colab": {
          "base_uri": "https://localhost:8080/",
          "height": 448
        },
        "id": "SfxY5xEQHxMI",
        "outputId": "dac5f117-630c-48d8-f45e-02c84e7c2d33"
      },
      "execution_count": 11,
      "outputs": [
        {
          "output_type": "execute_result",
          "data": {
            "text/html": [
              "<img src=\"https://img1.daumcdn.net/thumb/R1280x0/?scode=mtistory2&fname=https%3A%2F%2Fblog.kakaocdn.net%2Fdn%2FSRACX%2FbtqAkxQ8pkf%2FclRtX6wjdmVfpU9Z9V1rB1%2Fimg.png\" width=\"700\"/>"
            ],
            "text/plain": [
              "<IPython.core.display.Image object>"
            ]
          },
          "metadata": {},
          "execution_count": 11
        }
      ]
    }
  ]
}