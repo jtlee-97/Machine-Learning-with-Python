{
  "nbformat": 4,
  "nbformat_minor": 0,
  "metadata": {
    "colab": {
      "name": "Perceptron Algorithm",
      "provenance": [],
      "collapsed_sections": [
        "lcASqcUW0UyO",
        "wANbUoZ50ajV",
        "JHJjzEFS3hb2",
        "juOrR9an7umr"
      ],
      "authorship_tag": "ABX9TyORBE4AT9CCe2No2qQDPrJt",
      "include_colab_link": true
    },
    "kernelspec": {
      "name": "python3",
      "display_name": "Python 3"
    },
    "language_info": {
      "name": "python"
    }
  },
  "cells": [
    {
      "cell_type": "markdown",
      "metadata": {
        "id": "view-in-github",
        "colab_type": "text"
      },
      "source": [
        "<a href=\"https://colab.research.google.com/github/jtlee-97/Machine-Learning-with-Python/blob/main/%5B01%5D%20Perceptron_Algorithm.ipynb\" target=\"_parent\"><img src=\"https://colab.research.google.com/assets/colab-badge.svg\" alt=\"Open In Colab\"/></a>"
      ]
    },
    {
      "cell_type": "code",
      "source": [
        "from IPython.display import Image"
      ],
      "metadata": {
        "id": "k9yf4oBLUeCE"
      },
      "execution_count": 1,
      "outputs": []
    },
    {
      "cell_type": "markdown",
      "source": [
        "# **Perceptron Algorithm**\n",
        "\n",
        "\n",
        "\n",
        "- 1957년 Frank Rosenblatt가 제안한 초기형태의 인공 신경망으로 __다수의 입력으로부터 하나의 결과를 내보내는__ 초창기 알고리즘\n",
        "- 학습 데이터가 선형적으로 분리, weight(가중치) 값을 조정\n"
      ],
      "metadata": {
        "id": "33462kmbXefz"
      }
    },
    {
      "cell_type": "markdown",
      "source": [
        "### **Perceptron Algorithm - Learning rules** (weight update)\n",
        "- If the weight value is 0, it means that you predicted it correctly.\n",
        "\n",
        "- We limit the value of the Epoch because it is an algorithm that repeats indefinitely if we don't admit a little error.\n",
        "\n",
        "\n",
        "\n"
      ],
      "metadata": {
        "id": "SceibKjfd5Zt"
      }
    },
    {
      "cell_type": "markdown",
      "source": [
        "#### [ Weight update formula ]\n",
        "\n",
        "$w_j := w_j + \\Delta w_j$\n",
        "\n",
        "$\\Delta w_j = \\eta(y^{(i)}-\\hat{y}^{(i)})x_j^{(i)}$"
      ],
      "metadata": {
        "id": "q_uujkmE93Fd"
      }
    },
    {
      "cell_type": "code",
      "source": [
        "Image(url='https://git.io/JtIbO', width=600) "
      ],
      "metadata": {
        "colab": {
          "base_uri": "https://localhost:8080/",
          "height": 258
        },
        "id": "T4k_i2VMcthd",
        "outputId": "6bb212f4-a757-47ab-fb62-bb65b863a479"
      },
      "execution_count": 2,
      "outputs": [
        {
          "output_type": "execute_result",
          "data": {
            "text/html": [
              "<img src=\"https://git.io/JtIbO\" width=\"600\"/>"
            ],
            "text/plain": [
              "<IPython.core.display.Image object>"
            ]
          },
          "metadata": {},
          "execution_count": 2
        }
      ]
    },
    {
      "cell_type": "code",
      "source": [
        "Image(url='https://git.io/JtIbL', width=500) "
      ],
      "metadata": {
        "colab": {
          "base_uri": "https://localhost:8080/",
          "height": 300
        },
        "id": "pJ7LP9iPwhq8",
        "outputId": "f21fbff1-ab95-4ddb-b4ff-3a67c24e3ded"
      },
      "execution_count": 3,
      "outputs": [
        {
          "output_type": "execute_result",
          "data": {
            "text/html": [
              "<img src=\"https://git.io/JtIbL\" width=\"500\"/>"
            ],
            "text/plain": [
              "<IPython.core.display.Image object>"
            ]
          },
          "metadata": {},
          "execution_count": 3
        }
      ]
    },
    {
      "cell_type": "markdown",
      "source": [
        "\n",
        "\n",
        "---\n",
        "\n",
        "\n",
        "# **Implement the perceptron algorithm using Python**"
      ],
      "metadata": {
        "id": "RrbszkfJbN5M"
      }
    },
    {
      "cell_type": "code",
      "source": [
        "import numpy as np\n",
        "\n",
        "class Perceptron(object):\n",
        "  def __init__(self, eta=0.01, n_iter=50, thresholds=0.0):  # 학습률 0.01 / 에포크 50회 / 임계값 0.0\n",
        "        self.eta = eta\n",
        "        self.n_iter = n_iter\n",
        "        self.thresholds = thresholds\n",
        "\n",
        "  def fit(self, X, y):\n",
        "        self.w_ = np.zeros(1 + X.shape[1])\n",
        "        self.errors_ = [] \n",
        "\n",
        "        for _ in range(self.n_iter): \n",
        "            errors = 0\n",
        "            for xi, target in zip(X, y): # xi : 특성 / target : 타깃값\n",
        "                update = self.eta * (target - self.predict(xi)) # update -> n(y - yi)\n",
        "                self.w_[1:] += update * xi \n",
        "                self.w_[0] += update \n",
        "                # 오류 검출\n",
        "                errors += int(update != 0.0) \n",
        "            self.errors_.append(errors) \n",
        "        return self\n",
        "\n",
        "  def net_input(self, X):\n",
        "    return np.dot(X, self.w_[1:] + self.w_[0])\n",
        "  \n",
        "  def predict(self, X):\n",
        "    return np.where(self.net_input(X) >= 0.0, 1, -1)"
      ],
      "metadata": {
        "id": "R4C-2yJQaDbK"
      },
      "execution_count": 4,
      "outputs": []
    },
    {
      "cell_type": "markdown",
      "source": [
        "\n",
        "\n",
        "---\n",
        "\n",
        "\n",
        "## **Perceptron test using iris data.**"
      ],
      "metadata": {
        "id": "WtkitYzgwt_D"
      }
    },
    {
      "cell_type": "markdown",
      "source": [
        "#### 데이터 준비 "
      ],
      "metadata": {
        "id": "lcASqcUW0UyO"
      }
    },
    {
      "cell_type": "code",
      "source": [
        "import os\n",
        "import pandas as pd\n",
        "\n",
        "\n",
        "s = 'https://archive.ics.uci.edu/ml/machine-learning-databases/iris/iris.data'\n",
        "print('URL:', s)\n",
        "\n",
        "df = pd.read_csv(s, header=None, encoding='utf-8')\n",
        "print(df)"
      ],
      "metadata": {
        "colab": {
          "base_uri": "https://localhost:8080/"
        },
        "id": "GTAzPX0Iz_zl",
        "outputId": "dec1bdf2-a8ae-4a30-e1ae-4026c8acfb83"
      },
      "execution_count": 5,
      "outputs": [
        {
          "output_type": "stream",
          "name": "stdout",
          "text": [
            "URL: https://archive.ics.uci.edu/ml/machine-learning-databases/iris/iris.data\n",
            "       0    1    2    3               4\n",
            "0    5.1  3.5  1.4  0.2     Iris-setosa\n",
            "1    4.9  3.0  1.4  0.2     Iris-setosa\n",
            "2    4.7  3.2  1.3  0.2     Iris-setosa\n",
            "3    4.6  3.1  1.5  0.2     Iris-setosa\n",
            "4    5.0  3.6  1.4  0.2     Iris-setosa\n",
            "..   ...  ...  ...  ...             ...\n",
            "145  6.7  3.0  5.2  2.3  Iris-virginica\n",
            "146  6.3  2.5  5.0  1.9  Iris-virginica\n",
            "147  6.5  3.0  5.2  2.0  Iris-virginica\n",
            "148  6.2  3.4  5.4  2.3  Iris-virginica\n",
            "149  5.9  3.0  5.1  1.8  Iris-virginica\n",
            "\n",
            "[150 rows x 5 columns]\n"
          ]
        }
      ]
    },
    {
      "cell_type": "markdown",
      "source": [
        "### **Drawing a data graph.** \n",
        "> 준비한 데이터 그래프로 확인"
      ],
      "metadata": {
        "id": "wANbUoZ50ajV"
      }
    },
    {
      "cell_type": "code",
      "source": [
        "%matplotlib inline\n",
        "import matplotlib.pyplot as plt\n",
        "import numpy as np\n",
        "\n",
        "y = df.iloc[0:100, 4].values \n",
        "y = np.where(y == 'Iris-setosa', -1, 1) \n",
        "X = df.iloc[0:100, [0, 2]].values  \n",
        "\n",
        "plt.scatter(X[:50, 0], X[:50, 1], color='red', marker='o', label='setosa') \n",
        "\n",
        "plt.scatter(X[50:100, 0], X[50:100, 1], color='blue', marker='x', label='versicolor')\n",
        "\n",
        "plt.xlabel('sepal length [cm]')\n",
        "plt.ylabel('petal length [cm]')\n",
        "plt.legend(loc='upper left') \n",
        "\n",
        "plt.show()"
      ],
      "metadata": {
        "colab": {
          "base_uri": "https://localhost:8080/",
          "height": 0
        },
        "id": "bGPLYa4r1gft",
        "outputId": "11c37d05-5889-4e35-ec01-d37ed8f717e2"
      },
      "execution_count": 6,
      "outputs": [
        {
          "output_type": "display_data",
          "data": {
            "image/png": "[encoded data removed]",
            "text/plain": [
              "<Figure size 432x288 with 1 Axes>"
            ]
          },
          "metadata": {
            "needs_background": "light"
          }
        }
      ]
    },
    {
      "cell_type": "markdown",
      "source": [
        "> *코드 부가 설명*\n",
        "\n",
        "      matplotlib.pyplot : 명령어 스타일로 동작하는 함수, 그래프를 만들고 변화를 줄 수 있음\n",
        "\n",
        "      iris.data파일은 iris-setosa / iris-versicolor / iris-virginica가 순서대로 50개씩 들어있는 csv파일\n",
        "      밑에서 100개를 불러들여 setosa와 versicolor 2개로 구분하는 이유는 순서대로 50개씩이기 때문에 virginica가 없다는 것을 알고 있기 때문.\n",
        "\n",
        "      loc  : 사람이 읽는 라벨 값으로 접근\n",
        "      iloc : 컴퓨터가 읽을 수 있는 indexing값으로 접근\n",
        "\n",
        "      legend(범례) : 데이터 종류를 표시하기 위한 텍스트\n",
        "          : loc = 위치 지정 -> 여기선 upper left로 좌측상단에 데이터 종류 표기\n",
        "          : (0.5, 0.5)로 지정하거나, upper left / lower right로 지정 가능"
      ],
      "metadata": {
        "id": "U39P2y8L1x3F"
      }
    },
    {
      "cell_type": "markdown",
      "source": [
        "### **Using data to train perceptron models.**"
      ],
      "metadata": {
        "id": "JHJjzEFS3hb2"
      }
    },
    {
      "cell_type": "code",
      "source": [
        "# 학습률 0.1 / 에포크 10회\n",
        "ppn = Perceptron(eta=0.1, n_iter=10) \n",
        "ppn.fit(X, y) \n",
        "\n",
        "# errors(오차값) 그래프\n",
        "plt.plot(range(1, len(ppn.errors_) + 1), ppn.errors_, marker='o') \n",
        "plt.xlabel('Epochs')\n",
        "plt.ylabel('Number of updates')\n",
        "plt.show()"
      ],
      "metadata": {
        "colab": {
          "base_uri": "https://localhost:8080/",
          "height": 0
        },
        "id": "MSxFobSA4DoD",
        "outputId": "7cb756b3-fef4-4183-ae4b-470c787a9436"
      },
      "execution_count": 7,
      "outputs": [
        {
          "output_type": "display_data",
          "data": {
            "image/png": "[encoded data removed]",
            "text/plain": [
              "<Figure size 432x288 with 1 Axes>"
            ]
          },
          "metadata": {
            "needs_background": "light"
          }
        }
      ]
    },
    {
      "cell_type": "markdown",
      "source": [
        "> *부가 설명*\n",
        "        \n",
        "        그래프를 확인해보면 총 10회의 애포크 중 y축이 0이 되는 에포크 횟수번째부터 오차가 없는 것을 확인할 수 있다.\n",
        "        즉 해당 퍼셉트론은 y축이 0이 되는 에포크 횟수번째 이후 훈련 샘플을 완벽하게 분류했다는 것을 의미한다.\n",
        "      \n"
      ],
      "metadata": {
        "id": "MOEPAwsW3jKG"
      }
    },
    {
      "cell_type": "markdown",
      "source": [
        "### **Check the results using the determination boundary graph.**"
      ],
      "metadata": {
        "id": "skd4KuXs6lDU"
      }
    },
    {
      "cell_type": "markdown",
      "source": [
        "#### Graph Code"
      ],
      "metadata": {
        "id": "juOrR9an7umr"
      }
    },
    {
      "cell_type": "code",
      "source": [
        "from matplotlib.colors import ListedColormap\n",
        "\n",
        "\n",
        "def plot_decision_regions(X, y, classifier, resolution=0.02):\n",
        "    markers = ('s', 'x', 'o', '^', 'v')\n",
        "    colors = ('red', 'blue', 'lightgreen', 'gray', 'cyan')\n",
        "    cmap = ListedColormap(colors[:len(np.unique(y))])\n",
        "\n",
        "    x1_min, x1_max = X[:, 0].min() - 1, X[:, 0].max() + 1\n",
        "    x2_min, x2_max = X[:, 1].min() - 1, X[:, 1].max() + 1\n",
        "\n",
        "    xx1, xx2 = np.meshgrid( np.arange(x1_min, x1_max, resolution), np.arange(x2_min, x2_max, resolution) )\n",
        "\n",
        "    Z = classifier.predict(np.array([xx1.ravel(), xx2.ravel()]).T)\n",
        "    Z = Z.reshape(xx1.shape)\n",
        "\n",
        "    plt.contourf(xx1, xx2, Z, alpha=0.3, cmap=cmap)\n",
        "    plt.xlim(xx1.min(), xx1.max())\n",
        "    plt.ylim(xx2.min(), xx2.max())\n",
        "\n",
        "    # 샘플의 산점도를 그립니다\n",
        "    for idx, cl in enumerate(np.unique(y)):\n",
        "        plt.scatter(x=X[y == cl, 0], \n",
        "                    y=X[y == cl, 1],\n",
        "                    alpha=0.8, \n",
        "                    c=colors[idx],\n",
        "                    marker=markers[idx], \n",
        "                    label=cl, \n",
        "                    edgecolor='black')"
      ],
      "metadata": {
        "id": "JRNG4dcV6nPx"
      },
      "execution_count": 8,
      "outputs": []
    },
    {
      "cell_type": "markdown",
      "source": [
        "**굵은 텍스트**> *코드 부가 설명*\n",
        "\n",
        "      meshgrid함수 \n",
        "        : 축에 해당하는 1차원 배열을 받아 벡터 공간의 모든 좌표를 담은 행렬을 반환한다.\n",
        "        : 지금은 x1,x2 각각의 최소 최대 범위를 지정했으니, xx1/xx2로 모든 좌표를 반환시킨다.\n",
        "        : 그에 간격을 resolution으로 했고, 이는 위에서 0.02로 지정했었다.\n",
        "        : 즉 x1을 예로들면 x1_min부터 0.02간격으로 x1_max까지의 모든 좌표를 xx1에 추가한 것이다.\n",
        "\n",
        "      \n",
        "      ravel()는 다차원 배열읠 1차원으로 평평하게 펴주는 함수이다.\n",
        "\n",
        "      .T는 전치를 의미하며, 열벡터를 행벡터로 혹은 그 반대로 바꾸는 것을 의미한다.\n",
        "\n",
        "      reshape 함수 : 배열의 차원을 변경해주며, 기본값은 reshape(변경배열, 차원)이다.\n",
        "\n",
        "      contourf는 등치선을 표현하는데 사용하는 함수이다.\n",
        "      2가지가 있는데 contour()는 등고선만 표기하고, contourf()는 색상을 표기한다.\n",
        "      [자세한 활용법: https://m31phy.tistory.com/220]\n",
        "\n",
        "\n",
        "      샘플색과 배경색이 겹치는 것은 alpha를 통해 투명도를 조절했고, 샘플에는 테두리를 검은색으로 처리했다.\n",
        "      "
      ],
      "metadata": {
        "id": "e3BRCSSD684L"
      }
    },
    {
      "cell_type": "markdown",
      "source": [
        "\n",
        "\n",
        "#### Result\n",
        "\n"
      ],
      "metadata": {
        "id": "a6xnNlnQ8P5M"
      }
    },
    {
      "cell_type": "code",
      "source": [
        "plot_decision_regions(X, y, classifier=ppn)\n",
        "plt.xlabel('sepal length [cm]')\n",
        "plt.ylabel('petal length [cm]')\n",
        "plt.legend(loc='upper left')\n",
        "plt.show()"
      ],
      "metadata": {
        "colab": {
          "base_uri": "https://localhost:8080/",
          "height": 280
        },
        "id": "8m0c5dsu73xQ",
        "outputId": "ab436949-d069-41ee-f1d3-bfab17958466"
      },
      "execution_count": 9,
      "outputs": [
        {
          "output_type": "display_data",
          "data": {
            "image/png": "[encoded data removed]",
            "text/plain": [
              "<Figure size 432x288 with 1 Axes>"
            ]
          },
          "metadata": {
            "needs_background": "light"
          }
        }
      ]
    }
  ]
}